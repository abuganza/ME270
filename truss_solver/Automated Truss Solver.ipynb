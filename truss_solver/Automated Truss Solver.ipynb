{
 "cells": [
  {
   "cell_type": "markdown",
   "metadata": {},
   "source": [
    "# Automated Truss Solver\n",
    "\n",
    "In class we have talked about trusses and how to solve for the forces in the elements of the truss using either the method of joints or the method of sections. The method of joints is particularly amenable for computer implementation and that's the goal of this iPython notebook"
   ]
  },
  {
   "cell_type": "code",
   "execution_count": 1,
   "metadata": {
    "collapsed": true
   },
   "outputs": [],
   "source": [
    "import numpy as np\n",
    "import matplotlib\n",
    "import matplotlib.pyplot as plt\n",
    "from mpl_toolkits.mplot3d import Axes3D\n",
    "%matplotlib inline"
   ]
  },
  {
   "cell_type": "markdown",
   "metadata": {},
   "source": [
    "## Truss Representation: Mesh and Boundary Conditions\n",
    "\n",
    "We first need to define or parameterize a truss. Before doing so, let's take a look at a method to solve mechanics problems called 'Finite Element Analysis' (FEA). FEA is most often used to solve mechanical equilibrium of materials, which is the topic of ME323. The solution process consists of splitting the domain into pieces or 'elements' and setting up the equation of equilibrium for each of these elements as they interact with their neighbors. Then all the equations are put together to solve for the forces and deformations of each element. The most basic type of 'finite element' is a truss member! \n",
    "\n",
    "Thus, to parameterize a truss we will use a very similar approach to what we did for the centroid assingment. We need a truss 'mesh'. In other words we need a list of 'nodal coordinates' which contains the location of the pin joints, and a list of 'element connectivity'. Each element of the truss is specified by connecting two joints (or nodes). \n",
    "\n",
    "In addition to the geometry, we must specify a joint with a fixed support and a joint with a roller support. This is formally known as 'boundary condition'. Finally, we must also specify the loading. For a given node, which force is being applied. A sample file is provided."
   ]
  },
  {
   "cell_type": "code",
   "execution_count": 2,
   "metadata": {
    "collapsed": true
   },
   "outputs": [],
   "source": [
    "## Reading in the mesh\n",
    "\n",
    "# open the file and read in the lines\n",
    "filename = 'truss_areaExamF18.txt'\n",
    "filelines = open(filename,'r').readlines()\n",
    "\n",
    "# second line has the number of nodes (or pin joints)\n",
    "n_nodes = int(filelines[1])\n",
    "\n",
    "# read the nodes and store them in an array\n",
    "nodes = np.zeros((n_nodes,2)) # this creates the array, each node has 2 coords\n",
    "for i in range(n_nodes):\n",
    "    aux = filelines[i+2].split(' ')\n",
    "    nodes[i,0] = float(aux[0])\n",
    "    nodes[i,1] = float(aux[1])\n",
    "# two lines ahead is the number of elements (truss members)\n",
    "n_members = int(filelines[n_nodes+3]) \n",
    "members = np.ndarray((n_members,2),dtype = int) # each member is defined by 2 nodes\n",
    "for i in range(n_members):\n",
    "    aux = filelines[i+n_nodes+4].split(' ')\n",
    "    members[i,0] = int(aux[0])\n",
    "    members[i,1] = int(aux[1])\n",
    "    \n",
    "# read the boundary conditions (which joint has a fixed support and which one has a roller)\n",
    "BC_fixed = int(filelines[n_nodes+n_members+5])\n",
    "BC_roller = int(filelines[n_nodes+n_members+7])\n",
    "\n",
    "# read the loads, first the number of loads\n",
    "n_loads = int(filelines[n_nodes+n_members+9])\n",
    "# then the loads which are specified by the node at which the load is acting\n",
    "# and the vector force\n",
    "loads = np.zeros((n_loads,3))\n",
    "for i in range(n_loads):\n",
    "    aux = filelines[n_nodes+n_members+10+i].split(' ')\n",
    "    loads[i,0] = float(aux[0]) # the node at which the load is acting\n",
    "    loads[i,1] = float(aux[1]) # the x component of the load\n",
    "    loads[i,2] = float(aux[2]) # the y component of the load"
   ]
  },
  {
   "cell_type": "markdown",
   "metadata": {},
   "source": [
    "To compute the equations we will have to loop over the joints and get the members that are concurrent at that joint, thus we need to create a new structure with that information"
   ]
  },
  {
   "cell_type": "code",
   "execution_count": 3,
   "metadata": {
    "collapsed": true
   },
   "outputs": [],
   "source": [
    "## Creating an array that has, for each node, the elements that are concurrent at that node\n",
    "max_valence = 6 # the maximum number of elements that are concurrent at a single node\n",
    "joints = -1*np.ones((n_nodes,max_valence))\n",
    "# loop over elements\n",
    "for i in range(n_members):\n",
    "    # for each element fill in the corresponding entry in the joints array\n",
    "    # first find the first node of that member and change one of the joint rows\n",
    "    for j in range(max_valence):\n",
    "        if joints[members[i,0],j]==-1:\n",
    "            joints[members[i,0],j] = i\n",
    "            break\n",
    "    # then find the second node of the element and change the joints array\n",
    "    for j in range(max_valence):\n",
    "        if joints[members[i,1],j]==-1:\n",
    "            joints[members[i,1],j] = i\n",
    "            break\n",
    "            \n"
   ]
  },
  {
   "cell_type": "code",
   "execution_count": 4,
   "metadata": {},
   "outputs": [
    {
     "name": "stdout",
     "output_type": "stream",
     "text": [
      "nodal coordinates\n",
      "[[ 0.  0.]\n",
      " [ 0.  1.]\n",
      " [ 1.  2.]\n",
      " [ 2.  2.]\n",
      " [ 3.  1.]\n",
      " [ 3.  0.]]\n",
      "members\n",
      "[[0 1]\n",
      " [0 2]\n",
      " [1 2]\n",
      " [1 3]\n",
      " [2 3]\n",
      " [2 4]\n",
      " [3 4]\n",
      " [3 5]\n",
      " [4 5]]\n",
      "joints\n",
      "[[ 0.  1. -1. -1. -1. -1.]\n",
      " [ 0.  2.  3. -1. -1. -1.]\n",
      " [ 1.  2.  4.  5. -1. -1.]\n",
      " [ 3.  4.  6.  7. -1. -1.]\n",
      " [ 5.  6.  8. -1. -1. -1.]\n",
      " [ 7.  8. -1. -1. -1. -1.]]\n",
      "boundary conditions\n",
      "0\n",
      "5\n",
      "loads\n",
      "[[ 1.  0. -1.]\n",
      " [ 2.  0. -2.]\n",
      " [ 3.  0. -2.]\n",
      " [ 4.  0. -1.]]\n"
     ]
    }
   ],
   "source": [
    "print('nodal coordinates')\n",
    "print(nodes)\n",
    "print('members')\n",
    "print(members)\n",
    "print('joints')\n",
    "print(joints) ## the new array I just created, not in the file\n",
    "print('boundary conditions')\n",
    "print(BC_fixed)\n",
    "print(BC_roller)\n",
    "print('loads')\n",
    "print(loads)\n"
   ]
  },
  {
   "cell_type": "markdown",
   "metadata": {},
   "source": [
    "## Plotting Truss Geometry"
   ]
  },
  {
   "cell_type": "code",
   "execution_count": 5,
   "metadata": {},
   "outputs": [
    {
     "data": {
      "text/plain": [
       "(-1.5, 3.1)"
      ]
     },
     "execution_count": 5,
     "metadata": {},
     "output_type": "execute_result"
    },
    {
     "data": {
      "image/png": "[encoded data removed]",
      "text/plain": [
       "<matplotlib.figure.Figure at 0x116e6d350>"
      ]
     },
     "metadata": {},
     "output_type": "display_data"
    }
   ],
   "source": [
    "## Plot the truss \n",
    "for i in range(n_members):\n",
    "    plt.plot([nodes[members[i,0],0],nodes[members[i,1],0]],[nodes[members[i,0],1],nodes[members[i,1],1]],color='black')\n",
    "plt.scatter(nodes[:,0],nodes[:,1],color='blue')\n",
    "vectorBC1 = [nodes[BC_fixed,0]-0.1,nodes[BC_fixed,1]-0.1,nodes[BC_fixed,0],nodes[BC_fixed,1]]\n",
    "plt.scatter(nodes[BC_fixed,0]-0.1,nodes[BC_fixed,1],marker='>',color='green',s=100)\n",
    "plt.scatter(nodes[BC_fixed,0],nodes[BC_fixed,1]-0.1,marker='^',color='green',s=100)\n",
    "plt.scatter(nodes[BC_roller,0],nodes[BC_roller,1]-0.1,marker='^',color='green',s=100)\n",
    "for i in range(n_loads):\n",
    "    plt.arrow(nodes[int(loads[i,0]),0],nodes[int(loads[i,0]),1],loads[i,1],loads[i,2]/450,\n",
    "             head_width=0.1,head_length=0.1,color='red')\n",
    "plt.ylim((-1.5,3.1))"
   ]
  },
  {
   "cell_type": "markdown",
   "metadata": {},
   "source": [
    "## Static Determinancy \n",
    "\n",
    "We need to check that the truss satisfies the required condition for being statically determinate in order to be sure that we can solve it.\n",
    "\n",
    "NOTE: even if the truss satisfies this equation it can still be statically indeterminate\n",
    "this is a necessary but not a sufficient condition. \n",
    "\n",
    "Please refer to your notes for this part of the code."
   ]
  },
  {
   "cell_type": "code",
   "execution_count": 6,
   "metadata": {},
   "outputs": [
    {
     "ename": "SyntaxError",
     "evalue": "invalid syntax (<ipython-input-6-cbd24955dc52>, line 3)",
     "output_type": "error",
     "traceback": [
      "\u001b[0;36m  File \u001b[0;32m\"<ipython-input-6-cbd24955dc52>\"\u001b[0;36m, line \u001b[0;32m3\u001b[0m\n\u001b[0;31m    condition =  ## Your code here ##\u001b[0m\n\u001b[0m                                     ^\u001b[0m\n\u001b[0;31mSyntaxError\u001b[0m\u001b[0;31m:\u001b[0m invalid syntax\n"
     ]
    }
   ],
   "source": [
    "## Check that truss is statically determinate\n",
    "\n",
    "condition =  ## Your code here ##\n",
    "\n",
    "if condition>0:\n",
    "    print(\"your text here\")\n",
    "elif condition<0:\n",
    "    print(\"your text here\")\n",
    "else:\n",
    "    print(\"your text here\")\n",
    "        "
   ]
  },
  {
   "cell_type": "markdown",
   "metadata": {},
   "source": [
    "## Method of Joints: Assembling a Linear System\n",
    "\n",
    "The method of joints consists of assembling a linear system of equations, or, in other words, filling a matrix A and a vector b and solving the matrix equation Ax = b, where x is the solution vector. \n",
    "\n",
    "In our case, x is the vector with all the member forces and the reactions at the fixed support and roller support. Thus, x is a vector of size n_members + 3. \n",
    "\n",
    "Each row of the matrix A is one equation. We have two equations per joint (sum Fx=0, sumFy=0), so A must have dimensions 2\\*n_nodes X (n_members+3). To get a unique solution of Ax =b, A needs to be a square matrix. Hopefully now you see why we need to check the condition for static determinancy. \n",
    "\n",
    "Since each equation is sum Fx = 0, sum Fy = 0 for each joint, then the vector b is a vector of 2\\*n_nodes with the negative of the external loads\n",
    "\n",
    "The goal of our code is then to fill out matrix A\n"
   ]
  },
  {
   "cell_type": "code",
   "execution_count": null,
   "metadata": {
    "collapsed": true
   },
   "outputs": [],
   "source": [
    "## Filling out matrix A\n",
    "\n",
    "A = np.zeros((2*n_nodes,n_members+3)) # initializes A\n",
    "\n",
    "# loop over joints, remember, each row of A is one equation, each joint gives us 2 equations\n",
    "# each column of the matrix A is associated to an unknown, namely all the member forces and\n",
    "# the reactions from the ground. The fixed support reaction forces are the third to last and\n",
    "# second to last columns while the roller support reaction force is the last column\n",
    "for i in range(n_nodes):\n",
    "    # for each joint loop over the elements concurrent at the joint\n",
    "    for j in range(max_valence):\n",
    "        \n",
    "        # max_valence is the maximum number of members that are at a joint, but there\n",
    "        # could be less, so if we find a -1 we break the loop\n",
    "        if joints[i,j]<0:\n",
    "            break\n",
    "        \n",
    "        ## For each element add the corresponding entries to the matrix A\n",
    "        # remember that each element will contribute to two equations, sum Fx, and sum Fy\n",
    "        # and therefore to two rows of A\n",
    "        \n",
    "        # sum Fx = 0\n",
    "        A[i*2+0,int(joints[i,j])] = ## Your code here (probably needs code before also) ## \n",
    "        \n",
    "        # sum Fy = 0\n",
    "        A[i*2+1,int(joints[i,j])] = ## Your code here (probably needs code before also) ## \n",
    "        \n",
    "    ## Check if this node has ground reactions\n",
    "    \n",
    "    # if this node has the fixed support then the equation corresponding to this node\n",
    "    # has to take the corresponding x and y reactions into consideration\n",
    "    if i==BC_fixed:\n",
    "        # for sum Fx = 0\n",
    "        A[i*2+0,n_members] = ## Your code here ##\n",
    "        # for sum Fy = 0\n",
    "        A[i*2+1,n_members+1] = ## Your code here ##\n",
    "        \n",
    "    # if this node has the roller support\n",
    "    if i==BC_roller:\n",
    "        A[i*2+1,n_members+2] ## Your code here ##\n",
    "        "
   ]
  },
  {
   "cell_type": "markdown",
   "metadata": {},
   "source": [
    "Now we can create the right hand side which has the external loads, and then solve for x"
   ]
  },
  {
   "cell_type": "code",
   "execution_count": 70,
   "metadata": {
    "collapsed": true
   },
   "outputs": [],
   "source": [
    "# Right hand side is initialized with zeros\n",
    "b = np.zeros((2*n_nodes))\n",
    "# then filled with the negative of the loads\n",
    "for i in range(n_loads):\n",
    "    ## Your code here ##\n",
    "    \n",
    "# Solve \n",
    "x = np.linalg.solve(A,b)"
   ]
  },
  {
   "cell_type": "markdown",
   "metadata": {},
   "source": [
    "## Results \n",
    "\n",
    "We can plot the results and also print the results to the screen"
   ]
  },
  {
   "cell_type": "code",
   "execution_count": null,
   "metadata": {
    "collapsed": true
   },
   "outputs": [],
   "source": [
    "# Creating a heat map, the array mycmap is a list of colors\n",
    "n_contours = 50 # the size of the 'heat map' array\n",
    "mycmap = matplotlib.cm.get_cmap('jet', n_contours)  \n",
    "\n",
    "# First, assign to each member a color index according to the force\n",
    "member_color_index = np.ndarray((n_members),dtype = int)\n",
    "max_tension_force = ## Your code here ##\n",
    "max_compression_force = ## Your code here ##\n",
    "\n",
    "# Loop over the members and, based on their force relative to the max tension and\n",
    "# compression, determine the index value. For example, if we want 50 countours then \n",
    "# the index number 25 corresponds to 0, the index 50 is maximum tension, and the nidex 0\n",
    "# is for maximum compression\n",
    "for i in range(n_members):\n",
    "    member_color[i] = ## Your code here ##\n",
    "\n",
    "for i in range(n_members):\n",
    "    plt.plot([nodes[members[i,0],0],nodes[members[i,1],0]],[nodes[members[i,0],1],nodes[members[i,1],1]],\n",
    "             color=mycmap(member_color[i])\n",
    "plt.scatter(nodes[:,0],nodes[:,1],color='blue')\n",
    "vectorBC1 = [nodes[BC_fixed,0]-0.1,nodes[BC_fixed,1]-0.1,nodes[BC_fixed,0],nodes[BC_fixed,1]]\n",
    "plt.scatter(nodes[BC_fixed,0]-0.1,nodes[BC_fixed,1],marker='>',color='green',s=100)\n",
    "plt.scatter(nodes[BC_fixed,0],nodes[BC_fixed,1]-0.1,marker='^',color='green',s=100)\n",
    "plt.scatter(nodes[BC_roller,0],nodes[BC_roller,1]-0.1,marker='^',color='green',s=100)\n",
    "for i in range(n_loads):\n",
    "    plt.arrow(nodes[int(loads[i,0]),0],nodes[int(loads[i,0]),1],loads[i,1],loads[i,2]/450,\n",
    "             head_width=0.1,head_length=0.1,color='red')\n",
    "plt.ylim((-1.5,3.1))\n"
   ]
  }
 ],
 "metadata": {
  "kernelspec": {
   "display_name": "Python 2",
   "language": "python",
   "name": "python2"
  },
  "language_info": {
   "codemirror_mode": {
    "name": "ipython",
    "version": 2
   },
   "file_extension": ".py",
   "mimetype": "text/x-python",
   "name": "python",
   "nbconvert_exporter": "python",
   "pygments_lexer": "ipython2",
   "version": "2.7.13"
  }
 },
 "nbformat": 4,
 "nbformat_minor": 2
}
